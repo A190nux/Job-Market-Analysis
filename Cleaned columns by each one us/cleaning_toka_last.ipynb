{
  "nbformat": 4,
  "nbformat_minor": 0,
  "metadata": {
    "colab": {
      "provenance": []
    },
    "kernelspec": {
      "name": "python3",
      "display_name": "Python 3"
    },
    "language_info": {
      "name": "python"
    }
  },
  "cells": [
    {
      "cell_type": "code",
      "execution_count": null,
      "metadata": {
        "id": "VjjA_FCSt1k3"
      },
      "outputs": [],
      "source": [
        "import pandas as pd\n",
        "import numpy as np\n",
        "import matplotlib.pyplot as plt\n",
        "import seaborn as sns"
      ]
    },
    {
      "cell_type": "code",
      "source": [
        "df = pd.read_csv('full_wuzzuf_jobs.csv')"
      ],
      "metadata": {
        "id": "71Rt5IxBt4x4"
      },
      "execution_count": null,
      "outputs": []
    },
    {
      "cell_type": "code",
      "source": [
        "# take a copy from salary column to get gender column\n",
        "df['Gender'] = df['Salary']\n",
        "\n",
        "df[\"Gender\"] = df[\"Gender\"].apply(lambda x: x if x in [\"Female\", \"Male\",\"Females Preferred\",\"Males Preferred\"] else np.nan)\n"
      ],
      "metadata": {
        "id": "4W0M50BEt9Bw"
      },
      "execution_count": null,
      "outputs": []
    },
    {
      "cell_type": "code",
      "source": [
        "df[\"Salary\"] = df[\"Salary\"].apply(lambda x: np.nan if x in  [\"Female\", \"Male\",\"Females Preferred\",\"Males Preferred\"] else x)"
      ],
      "metadata": {
        "id": "InV1eCgtt--i"
      },
      "execution_count": null,
      "outputs": []
    },
    {
      "cell_type": "code",
      "source": [
        "df[\"Gender\"] = df[\"Gender\"].fillna(\"both\")"
      ],
      "metadata": {
        "id": "eE4JsqacuHb5"
      },
      "execution_count": null,
      "outputs": []
    },
    {
      "cell_type": "code",
      "source": [
        "df = df.drop_duplicates()"
      ],
      "metadata": {
        "id": "9VjUGCZEuE0D"
      },
      "execution_count": null,
      "outputs": []
    },
    {
      "cell_type": "code",
      "source": [
        "df[\"Working_Place\"] = df[\"Working_Place\"].apply(lambda x: \"on-site\" if x not in  [\"hybrid\", \"Male\",\"remote\",\"on-site\"] else x)"
      ],
      "metadata": {
        "id": "opNssx-7uMKu"
      },
      "execution_count": null,
      "outputs": []
    }
  ]
}