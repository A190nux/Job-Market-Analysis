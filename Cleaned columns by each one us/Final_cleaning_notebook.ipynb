{
 "cells": [
  {
   "cell_type": "code",
   "execution_count": 28,
   "metadata": {},
   "outputs": [],
   "source": [
    "import pandas as pd\n",
    "from collections import Counter\n",
    "import ast\n",
    "from itertools import chain\n",
    "import matplotlib.pyplot as plt\n",
    "import seaborn as sns\n",
    "import numpy as np"
   ]
  },
  {
   "cell_type": "code",
   "execution_count": 29,
   "metadata": {},
   "outputs": [],
   "source": [
    "df=pd.read_csv(\"full_wuzzuf_jobs.csv\")"
   ]
  },
  {
   "cell_type": "code",
   "execution_count": 30,
   "metadata": {},
   "outputs": [],
   "source": [
    "df=df.drop_duplicates()"
   ]
  },
  {
   "cell_type": "code",
   "execution_count": 31,
   "metadata": {},
   "outputs": [],
   "source": [
    "# take a copy from salary column to get gender column\n",
    "df['Gender'] = df['Salary']\n",
    "\n",
    "df[\"Gender\"] = df[\"Gender\"].apply(lambda x: x if x in [\"Female\", \"Male\",\"Females Preferred\",\"Males Preferred\"] else np.nan)\n"
   ]
  },
  {
   "cell_type": "code",
   "execution_count": 32,
   "metadata": {},
   "outputs": [],
   "source": [
    "df[\"Salary\"] = df[\"Salary\"].apply(lambda x: np.nan if x in  [\"Female\", \"Male\",\"Females Preferred\",\"Males Preferred\"] else x)"
   ]
  },
  {
   "cell_type": "code",
   "execution_count": 33,
   "metadata": {},
   "outputs": [],
   "source": [
    "df[\"Gender\"] = df[\"Gender\"].fillna(\"both\")"
   ]
  },
  {
   "cell_type": "code",
   "execution_count": 34,
   "metadata": {},
   "outputs": [],
   "source": [
    "df[\"Working_Place\"] = df[\"Working_Place\"].apply(lambda x: \"on-site\" if x not in  [\"hybrid\", \"Male\",\"remote\",\"on-site\"] else x)"
   ]
  },
  {
   "cell_type": "code",
   "execution_count": 35,
   "metadata": {},
   "outputs": [],
   "source": [
    "df['Job_Category_Count'] = df['Job_Category'].map(df['Job_Category'].value_counts())\n",
    "df = df.sort_values(by=['Job_Category_Count', 'Job_Category', 'Title'], ascending=[False, True, True])\n",
    "df['Company'] = df['Company'].fillna('Not Specified')"
   ]
  },
  {
   "cell_type": "code",
   "execution_count": 36,
   "metadata": {},
   "outputs": [],
   "source": [
    "def convert_to_days(x):\n",
    "    if 'month' in x:\n",
    "        return int(x.split(' ')[1]) * 28\n",
    "    elif 'day' in x:\n",
    "        return int(x.split(' ')[1])\n",
    "    elif 'hour' in x:\n",
    "        return 1\n",
    "\n",
    "df['Post_Date'] = df['Post_Date'].apply(convert_to_days)"
   ]
  },
  {
   "cell_type": "code",
   "execution_count": 37,
   "metadata": {},
   "outputs": [],
   "source": [
    "# Create new columns with None values\n",
    "df['min_experience'] = None\n",
    "df['max_experience'] = None\n",
    "\n",
    "# Iterate through unique values in Experience column\n",
    "for value in df['Experience'].unique():\n",
    "    # Check if value contains \"More Than\"\n",
    "    if \"More Than\" in value:\n",
    "        num = int(value.split(\"More Than\")[1].strip().split(\" \")[0])\n",
    "        df.loc[df['Experience'] == value, 'min_experience'] = num\n",
    "        df.loc[df['Experience'] == value, 'max_experience'] = None\n",
    "    # Check if value is \"Not Specified\"\n",
    "    elif value == \"Not Specified\":\n",
    "        df.loc[df['Experience'] == value, 'min_experience'] = None\n",
    "        df.loc[df['Experience'] == value, 'max_experience'] = None\n",
    "    # Extract range of years for other values\n",
    "    else:\n",
    "        if \" To \" in value:\n",
    "            range_years = value.split(\" To \")\n",
    "            min_years = int(range_years[0].split(\" \")[0])\n",
    "            max_years = int(range_years[1].split(\" \")[0])\n",
    "            df.loc[df['Experience'] == value, 'min_experience'] = min_years\n",
    "            df.loc[df['Experience'] == value, 'max_experience'] = max_years\n",
    "        else:\n",
    "            df.loc[df['Experience'] == value, 'min_experience'] = int(value.split(\" \")[0])\n",
    "            df.loc[df['Experience'] == value, 'max_experience'] = int(value.split(\" \")[0])"
   ]
  },
  {
   "cell_type": "code",
   "execution_count": 38,
   "metadata": {},
   "outputs": [],
   "source": [
    "df = df.drop('Experience', axis=1)"
   ]
  },
  {
   "cell_type": "code",
   "execution_count": 39,
   "metadata": {},
   "outputs": [],
   "source": [
    "df[\"Location\"] = df[\"Location\"].apply(lambda x: x.split(\"\\n\")[0])"
   ]
  },
  {
   "cell_type": "code",
   "execution_count": 40,
   "metadata": {},
   "outputs": [],
   "source": [
    "df.loc[~df[\"Location\"].str.contains(\",\"), \"Location\"] = \"\""
   ]
  },
  {
   "cell_type": "code",
   "execution_count": 41,
   "metadata": {},
   "outputs": [],
   "source": [
    "df[['City', 'Country']] = df['Location'].str.split(',', expand=True)"
   ]
  },
  {
   "cell_type": "code",
   "execution_count": 43,
   "metadata": {},
   "outputs": [],
   "source": [
    "df[\"Number_of_Applicants\"]=df[\"Number_of_Applicants\"].replace('Be the First to Apply',1)"
   ]
  },
  {
   "cell_type": "code",
   "execution_count": 44,
   "metadata": {},
   "outputs": [],
   "source": [
    "df[\"Number_of_Positions\"] = df[\"Number_of_Positions\"].fillna(\"1\")\n",
    "df[\"Number_of_Positions\"] = df[\"Number_of_Positions\"].astype(str)\n",
    "df[\"Number_of_Positions\"] = (df[\"Number_of_Positions\"].str.replace(\",\", \"\").str.split().str[0].astype(\"Int64\"))"
   ]
  },
  {
   "cell_type": "code",
   "execution_count": 45,
   "metadata": {},
   "outputs": [],
   "source": [
    "df[\"Number_of_Applicants\"] = pd.to_numeric(df[\"Number_of_Applicants\"], errors=\"coerce\").astype(\"Int64\")"
   ]
  },
  {
   "cell_type": "code",
   "execution_count": 46,
   "metadata": {},
   "outputs": [],
   "source": [
    "df['Applicant_per_position'] = df['Number_of_Applicants'] // df['Number_of_Positions']"
   ]
  },
  {
   "cell_type": "code",
   "execution_count": 47,
   "metadata": {},
   "outputs": [
    {
     "name": "stdout",
     "output_type": "stream",
     "text": [
      "['Communication', '', 'Engineering', 'Sales', 'English', 'sales skills', 'Customer Service', 'Management', 'Microsoft Office', 'Communication skills', 'Sales Target', 'Marketing', 'Accounting', 'Administration', 'Finance', 'Information Technology (IT)', 'Computer Science', 'Design', 'Social Media', 'AutoCAD', 'Customer Support', 'Financial Analysis', 'business', 'Business Administration', 'Mechanical Engineering', 'Customer Care', 'Human Resources (HR)', 'Software', 'Negotiation', 'Skills', 'Construction', 'media', 'Software Development', 'Supply Chain', 'Logistics', 'Project Management', 'excel', 'Financial Management', 'Recruitment', 'Electrical Engineering', 'Digital Marketing', 'MS Office', 'ERP', 'CRM', 'Mechanical', 'Architecture', 'Manufacturing', 'Office management', 'Business Development', 'Real Estate', 'E-Marketing', 'Electrical', 'Adobe Photoshop', 'Planning', 'Civil Engineering', 'HR', 'Education', 'Human Resources', 'Maintenance', 'Operations', 'Analysis', 'Quality Control', 'quality', 'Computer Skills', 'digital marketing', 'Graphic Design', 'Purchasing', 'Production', 'Procurement', 'Call Center', 'Development', 'Revit', 'Leadership', 'Personnel', 'Medical', 'Teaching', 'technical', 'Quality Assurance', 'Experience', 'office', 'Secretary', 'Digital', 'SEO', 'Adobe illustrator', 'Market Research', 'Admin', 'Science', 'Financial', 'Training', 'JavaScript', 'photoshop', 'Creative', 'Accounting Software', 'Technical Office', 'Civil', 'Customer', 'Commerce', 'SQL', 'computer', 'Advertising', 'Software Engineering', 'Content', 'Pharmaceutical', 'Microsoft Excel', 'Pharmacy', 'analytical', 'Graphic', 'SAP', 'negotiation skills', 'IT', 'Retail', 'Sales Skills', 'Technical Support', 'illustrator', 'Writing', 'accountant', 'Payroll', 'Project', 'CPA', 'Agile', 'HTML', 'Travel', 'engineer', 'Telesales', '3D', 'MS', 'CMA', 'Tourism', 'CSS', 'social', 'Google Analytics', 'Talent acquisition', 'Editing', 'Export', 'CAD', 'General Ledger', 'Communication Skills', 'Git', 'B2B', 'Safety', 'Microsoft', 'Research', 'Auditing', 'Oracle', 'Online Marketing', 'FMCG', 'Interviewing', 'Arabic', 'Manager', 'Python', 'campaigns', 'administrative', 'Video Editing', 'Data Analysis', 'Site', 'Troubleshooting', 'Computer Engineering', 'indesign', 'Testing', 'Programming', 'Account Management', 'Installation', 'HVAC', 'Angular', 'Reporting', 'Fine Arts', 'Assistant', 'MS Excel', 'Time Management', 'Outdoor Sales', 'Arts', 'MySQL', 'Content Creation', 'Insurance', 'English Teaching', 'Hospitality', 'Warehousing', 'Interior Design', 'Industrial', 'QA', 'Web Development', 'PHP', 'Supply', 'Cost', 'Tendering', 'Sales Field', 'Automotive', 'inventory', 'Treasury', 'Banking', 'Projects', 'receptionist', 'Security', 'React', 'Customer Relations', 'Customer Satisfaction', 'Labor', 'Data', 'Healthcare', 'Architectural Engineering']\n"
     ]
    }
   ],
   "source": [
    "df[\"Skills\"] = df[\"Skills\"].apply(ast.literal_eval)\n",
    "all_skills = [skill for skills_list in df[\"Skills\"] for skill in skills_list]\n",
    "skill_frequency = Counter(all_skills)\n",
    "top_200_skills = skill_frequency.most_common(200)\n",
    "top_200_skill_names = [skill for skill, _ in top_200_skills]\n",
    "print(top_200_skill_names)"
   ]
  },
  {
   "cell_type": "code",
   "execution_count": 48,
   "metadata": {},
   "outputs": [],
   "source": [
    "standardization_map = {\n",
    "    \"ms office\": \"microsoft office\",\n",
    "    \"ms excel\": \"microsoft excel\",\n",
    "    \"erp\": \"enterprise resource planning\",\n",
    "    \"crm\": \"customer relationship management\",\n",
    "    \"seo\": \"search engine optimization\",\n",
    "    \"hr\": \"human resources\",\n",
    "    \"b2b\": \"business-to-business\",\n",
    "    \"pmp\": \"project management professional\",\n",
    "    \"qa\": \"quality assurance\",\n",
    "    \"it\": \"information technology\",\n",
    "    \"sql\": \"structured query language\",\n",
    "    \"cpa\": \"certified public accountant\",\n",
    "    \"cma\": \"certified management accountant\",\n",
    "    \"hvac\": \"heating, ventilation, and air conditioning\",\n",
    "    \"fmcg\": \"fast-moving consumer goods\",\n",
    "    \"bim\": \"building information modeling\",\n",
    "    \"cad\": \"computer-aided design\"\n",
    "}\n",
    "\n",
    "words_to_remove = {\"skills\", \"experience\", \"field\", \"technical\", \"office\", \"management\", \"assistant\"}\n",
    "\n",
    "def clean_skill(skill):\n",
    "    skill = skill.lower().strip()\n",
    "    skill = standardization_map.get(skill, skill)  \n",
    "    cleaned_words = [word for word in skill.split() if word not in words_to_remove]\n",
    "    return \" \".join(cleaned_words) if cleaned_words else None  \n",
    "\n",
    "def process_skills(skills):\n",
    "    if isinstance(skills, str):\n",
    "        try:\n",
    "            skills_list = ast.literal_eval(skills)  \n",
    "            if not isinstance(skills_list, list):\n",
    "                return []  \n",
    "        except (SyntaxError, ValueError):\n",
    "            return []\n",
    "    elif isinstance(skills, list):\n",
    "        skills_list = skills\n",
    "    else:\n",
    "        return []\n",
    "\n",
    "    return [skill for skill in map(clean_skill, skills_list) if skill]  \n",
    "\n",
    "df = df.dropna(subset=[\"Skills\"])\n",
    "df[\"Skills\"] = df[\"Skills\"].apply(process_skills)\n"
   ]
  },
  {
   "cell_type": "code",
   "execution_count": 49,
   "metadata": {},
   "outputs": [],
   "source": [
    "df.to_csv(\"Final_cleaned_wuzzuf_file.csv\", index=False)"
   ]
  }
 ],
 "metadata": {
  "kernelspec": {
   "display_name": "base",
   "language": "python",
   "name": "python3"
  },
  "language_info": {
   "codemirror_mode": {
    "name": "ipython",
    "version": 3
   },
   "file_extension": ".py",
   "mimetype": "text/x-python",
   "name": "python",
   "nbconvert_exporter": "python",
   "pygments_lexer": "ipython3",
   "version": "3.12.7"
  }
 },
 "nbformat": 4,
 "nbformat_minor": 2
}
