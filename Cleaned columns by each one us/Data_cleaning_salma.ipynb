{
  "nbformat": 4,
  "nbformat_minor": 0,
  "metadata": {
    "colab": {
      "provenance": [],
      "authorship_tag": "ABX9TyPPFeil6Y2zVK695Ffuxnc1",
      "include_colab_link": true
    },
    "kernelspec": {
      "name": "python3",
      "display_name": "Python 3"
    },
    "language_info": {
      "name": "python"
    }
  },
  "cells": [
    {
      "cell_type": "markdown",
      "metadata": {
        "id": "view-in-github",
        "colab_type": "text"
      },
      "source": [
        "<a href=\"https://colab.research.google.com/github/A190nux/Job-Market-Analysis/blob/main/Data_cleaning_salma.ipynb\" target=\"_parent\"><img src=\"https://colab.research.google.com/assets/colab-badge.svg\" alt=\"Open In Colab\"/></a>"
      ]
    },
    {
      "cell_type": "markdown",
      "source": [
        "الكود دة بيرتب ال تايتلز  تنازلي علي اساس ال جوب كاتيجوريز المتكررة اكتر\n",
        "\n",
        "و\n",
        "\n",
        "يملي قيم ال نان ب\n",
        "\n",
        "Not specified"
      ],
      "metadata": {
        "id": "JJTRqLCsJxnw"
      }
    },
    {
      "cell_type": "code",
      "execution_count": null,
      "metadata": {
        "id": "Vp0Gg-9iJJWM"
      },
      "outputs": [],
      "source": [
        "# Count occurrences of each job category\n",
        "job_category_counts = wuzzuf['Job_Category'].value_counts()\n",
        "\n",
        "# creates (Job_Category_Count) a column that calcultes each category`s occurunces\n",
        "wuzzuf = wuzzuf.assign(Job_Category_Count=wuzzuf['Job_Category'].map(job_category_counts))\n",
        "\n",
        "wuzzuf_sorted = wuzzuf.sort_values(by=['Job_Category_Count', 'Job_Category', 'Title'], ascending=[False, True, True])\n",
        "\n",
        "# Fill NaN values in the 'Company' column using an inplace-safe method\n",
        "wuzzuf = wuzzuf_sorted.assign(Company=wuzzuf_sorted['Company'].fillna('Not Specified'))\n",
        "wuzzuf"
      ]
    }
  ]
}