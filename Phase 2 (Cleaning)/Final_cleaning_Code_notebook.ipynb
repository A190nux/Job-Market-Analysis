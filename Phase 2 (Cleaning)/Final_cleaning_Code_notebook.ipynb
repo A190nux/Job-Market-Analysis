{
  "cells": [
    {
      "cell_type": "markdown",
      "metadata": {
        "id": "view-in-github",
        "colab_type": "text"
      },
      "source": [
        "<a href=\"https://colab.research.google.com/github/A190nux/Job-Market-Analysis/blob/main/Final_cleaning_notebook.ipynb\" target=\"_parent\"><img src=\"https://colab.research.google.com/assets/colab-badge.svg\" alt=\"Open In Colab\"/></a>"
      ]
    },
    {
      "cell_type": "code",
      "execution_count": 1,
      "metadata": {
        "id": "PQImyaaa8fqJ"
      },
      "outputs": [],
      "source": [
        "import pandas as pd\n",
        "from collections import Counter\n",
        "import ast\n",
        "from itertools import chain\n",
        "import matplotlib.pyplot as plt\n",
        "import seaborn as sns\n",
        "import numpy as np"
      ]
    },
    {
      "cell_type": "code",
      "execution_count": 12,
      "metadata": {
        "id": "dZYQ28gi8fqN"
      },
      "outputs": [],
      "source": [
        "df=pd.read_csv(\"full_wuzzuf_jobs.csv\")"
      ]
    },
    {
      "cell_type": "code",
      "execution_count": 11,
      "metadata": {
        "id": "0b3ADONI8fqO"
      },
      "outputs": [],
      "source": [
        "df=df.drop_duplicates()"
      ]
    },
    {
      "cell_type": "code",
      "execution_count": null,
      "metadata": {
        "id": "ORzCrraV8fqP"
      },
      "outputs": [],
      "source": [
        "# take a copy from salary column to get gender column\n",
        "df['Gender'] = df['Salary']\n",
        "\n",
        "df[\"Gender\"] = df[\"Gender\"].apply(lambda x: x if x in [\"Female\", \"Male\",\"Females Preferred\",\"Males Preferred\"] else np.nan)\n"
      ]
    },
    {
      "cell_type": "code",
      "execution_count": null,
      "metadata": {
        "id": "Ul0PzNt58fqQ"
      },
      "outputs": [],
      "source": [
        "df[\"Salary\"] = df[\"Salary\"].apply(lambda x: np.nan if x in  [\"Female\", \"Male\",\"Females Preferred\",\"Males Preferred\"] else x)"
      ]
    },
    {
      "cell_type": "code",
      "execution_count": null,
      "metadata": {
        "id": "EcF4rler8fqR"
      },
      "outputs": [],
      "source": [
        "df[\"Gender\"] = df[\"Gender\"].fillna(\"both\")"
      ]
    },
    {
      "cell_type": "code",
      "source": [
        "df[\"Working_Place\"] = df[\"Working_Place\"].str.lower()"
      ],
      "metadata": {
        "id": "3NoF42r49KZJ"
      },
      "execution_count": 14,
      "outputs": []
    },
    {
      "cell_type": "code",
      "execution_count": 15,
      "metadata": {
        "id": "YVhG6b_E8fqS"
      },
      "outputs": [],
      "source": [
        "df[\"Working_Place\"] = df[\"Working_Place\"].apply(lambda x: \"undefined\" if x not in  [\"hybrid\",\"remote\",\"on-site\"] else x)"
      ]
    },
    {
      "cell_type": "code",
      "source": [
        "df[\"Working_Place\"].value_counts()"
      ],
      "metadata": {
        "colab": {
          "base_uri": "https://localhost:8080/",
          "height": 241
        },
        "id": "pwZnuYMO89jf",
        "outputId": "1642b211-7ac4-4a56-cad7-4e95577a5193"
      },
      "execution_count": 16,
      "outputs": [
        {
          "output_type": "execute_result",
          "data": {
            "text/plain": [
              "Working_Place\n",
              "on-site      7805\n",
              "hybrid        580\n",
              "remote        520\n",
              "undefined      78\n",
              "Name: count, dtype: int64"
            ],
            "text/html": [
              "<div>\n",
              "<style scoped>\n",
              "    .dataframe tbody tr th:only-of-type {\n",
              "        vertical-align: middle;\n",
              "    }\n",
              "\n",
              "    .dataframe tbody tr th {\n",
              "        vertical-align: top;\n",
              "    }\n",
              "\n",
              "    .dataframe thead th {\n",
              "        text-align: right;\n",
              "    }\n",
              "</style>\n",
              "<table border=\"1\" class=\"dataframe\">\n",
              "  <thead>\n",
              "    <tr style=\"text-align: right;\">\n",
              "      <th></th>\n",
              "      <th>count</th>\n",
              "    </tr>\n",
              "    <tr>\n",
              "      <th>Working_Place</th>\n",
              "      <th></th>\n",
              "    </tr>\n",
              "  </thead>\n",
              "  <tbody>\n",
              "    <tr>\n",
              "      <th>on-site</th>\n",
              "      <td>7805</td>\n",
              "    </tr>\n",
              "    <tr>\n",
              "      <th>hybrid</th>\n",
              "      <td>580</td>\n",
              "    </tr>\n",
              "    <tr>\n",
              "      <th>remote</th>\n",
              "      <td>520</td>\n",
              "    </tr>\n",
              "    <tr>\n",
              "      <th>undefined</th>\n",
              "      <td>78</td>\n",
              "    </tr>\n",
              "  </tbody>\n",
              "</table>\n",
              "</div><br><label><b>dtype:</b> int64</label>"
            ]
          },
          "metadata": {},
          "execution_count": 16
        }
      ]
    },
    {
      "cell_type": "code",
      "execution_count": null,
      "metadata": {
        "id": "qeZrGC1r8fqS"
      },
      "outputs": [],
      "source": [
        "df['Job_Category_Count'] = df['Job_Category'].map(df['Job_Category'].value_counts())\n",
        "df = df.sort_values(by=['Job_Category_Count', 'Job_Category', 'Title'], ascending=[False, True, True])\n",
        "df['Company'] = df['Company'].fillna('Not Specified')"
      ]
    },
    {
      "cell_type": "code",
      "execution_count": null,
      "metadata": {
        "id": "Wm5jyyQ08fqU"
      },
      "outputs": [],
      "source": [
        "def convert_to_days(x):\n",
        "    if 'month' in x:\n",
        "        return int(x.split(' ')[1]) * 28\n",
        "    elif 'day' in x:\n",
        "        return int(x.split(' ')[1])\n",
        "    elif 'hour' in x:\n",
        "        return 1\n",
        "\n",
        "df['Post_Date'] = df['Post_Date'].apply(convert_to_days)"
      ]
    },
    {
      "cell_type": "code",
      "execution_count": null,
      "metadata": {
        "id": "J78f9gRV8fqV"
      },
      "outputs": [],
      "source": [
        "# Create new columns with None values\n",
        "df['min_experience'] = None\n",
        "df['max_experience'] = None\n",
        "\n",
        "# Iterate through unique values in Experience column\n",
        "for value in df['Experience'].unique():\n",
        "    # Check if value contains \"More Than\"\n",
        "    if \"More Than\" in value:\n",
        "        num = int(value.split(\"More Than\")[1].strip().split(\" \")[0])\n",
        "        df.loc[df['Experience'] == value, 'min_experience'] = num\n",
        "        df.loc[df['Experience'] == value, 'max_experience'] = None\n",
        "    # Check if value is \"Not Specified\"\n",
        "    elif value == \"Not Specified\":\n",
        "        df.loc[df['Experience'] == value, 'min_experience'] = None\n",
        "        df.loc[df['Experience'] == value, 'max_experience'] = None\n",
        "    # Extract range of years for other values\n",
        "    else:\n",
        "        if \" To \" in value:\n",
        "            range_years = value.split(\" To \")\n",
        "            min_years = int(range_years[0].split(\" \")[0])\n",
        "            max_years = int(range_years[1].split(\" \")[0])\n",
        "            df.loc[df['Experience'] == value, 'min_experience'] = min_years\n",
        "            df.loc[df['Experience'] == value, 'max_experience'] = max_years\n",
        "        else:\n",
        "            df.loc[df['Experience'] == value, 'min_experience'] = int(value.split(\" \")[0])\n",
        "            df.loc[df['Experience'] == value, 'max_experience'] = int(value.split(\" \")[0])"
      ]
    },
    {
      "cell_type": "code",
      "execution_count": null,
      "metadata": {
        "id": "Y8IIaS_t8fqW"
      },
      "outputs": [],
      "source": [
        "df = df.drop('Experience', axis=1)"
      ]
    },
    {
      "cell_type": "code",
      "execution_count": null,
      "metadata": {
        "id": "Uaf65uje8fqX"
      },
      "outputs": [],
      "source": [
        "df[\"Location\"] = df[\"Location\"].apply(lambda x: x.split(\"\\n\")[0])"
      ]
    },
    {
      "cell_type": "code",
      "execution_count": null,
      "metadata": {
        "id": "NaCSwSnT8fqY"
      },
      "outputs": [],
      "source": [
        "df.loc[~df[\"Location\"].str.contains(\",\"), \"Location\"] = \"\""
      ]
    },
    {
      "cell_type": "code",
      "execution_count": null,
      "metadata": {
        "id": "cljnSHJn8fqY"
      },
      "outputs": [],
      "source": [
        "df[['City', 'Country']] = df['Location'].str.split(',', expand=True)"
      ]
    },
    {
      "cell_type": "code",
      "execution_count": null,
      "metadata": {
        "id": "ejvjQUEc8fqZ"
      },
      "outputs": [],
      "source": [
        "df[\"Number_of_Applicants\"]=df[\"Number_of_Applicants\"].replace('Be the First to Apply',1)"
      ]
    },
    {
      "cell_type": "code",
      "execution_count": null,
      "metadata": {
        "id": "4hYjTAJx8fqa"
      },
      "outputs": [],
      "source": [
        "df[\"Number_of_Positions\"] = df[\"Number_of_Positions\"].fillna(\"1\")\n",
        "df[\"Number_of_Positions\"] = df[\"Number_of_Positions\"].astype(str)\n",
        "df[\"Number_of_Positions\"] = (df[\"Number_of_Positions\"].str.replace(\",\", \"\").str.split().str[0].astype(\"Int64\"))"
      ]
    },
    {
      "cell_type": "code",
      "execution_count": null,
      "metadata": {
        "id": "anNIBOd88fqb"
      },
      "outputs": [],
      "source": [
        "df[\"Number_of_Applicants\"] = pd.to_numeric(df[\"Number_of_Applicants\"], errors=\"coerce\").astype(\"Int64\")"
      ]
    },
    {
      "cell_type": "code",
      "execution_count": null,
      "metadata": {
        "id": "vT35_PGX8fqb"
      },
      "outputs": [],
      "source": [
        "df['Applicant_per_position'] = df['Number_of_Applicants'] // df['Number_of_Positions']"
      ]
    },
    {
      "cell_type": "code",
      "execution_count": null,
      "metadata": {
        "id": "g9jesp-n8fqc",
        "outputId": "3cacdf0a-fb03-45a8-9114-5c06a524f769"
      },
      "outputs": [
        {
          "name": "stdout",
          "output_type": "stream",
          "text": [
            "['Communication', '', 'Engineering', 'Sales', 'English', 'sales skills', 'Customer Service', 'Management', 'Microsoft Office', 'Communication skills', 'Sales Target', 'Marketing', 'Accounting', 'Administration', 'Finance', 'Information Technology (IT)', 'Computer Science', 'Design', 'Social Media', 'AutoCAD', 'Customer Support', 'Financial Analysis', 'business', 'Business Administration', 'Mechanical Engineering', 'Customer Care', 'Human Resources (HR)', 'Software', 'Negotiation', 'Skills', 'Construction', 'media', 'Software Development', 'Supply Chain', 'Logistics', 'Project Management', 'excel', 'Financial Management', 'Recruitment', 'Electrical Engineering', 'Digital Marketing', 'MS Office', 'ERP', 'CRM', 'Mechanical', 'Architecture', 'Manufacturing', 'Office management', 'Business Development', 'Real Estate', 'E-Marketing', 'Electrical', 'Adobe Photoshop', 'Planning', 'Civil Engineering', 'HR', 'Education', 'Human Resources', 'Maintenance', 'Operations', 'Analysis', 'Quality Control', 'quality', 'Computer Skills', 'digital marketing', 'Graphic Design', 'Purchasing', 'Production', 'Procurement', 'Call Center', 'Development', 'Revit', 'Leadership', 'Personnel', 'Medical', 'Teaching', 'technical', 'Quality Assurance', 'Experience', 'office', 'Secretary', 'Digital', 'SEO', 'Adobe illustrator', 'Market Research', 'Admin', 'Science', 'Financial', 'Training', 'JavaScript', 'photoshop', 'Creative', 'Accounting Software', 'Technical Office', 'Civil', 'Customer', 'Commerce', 'SQL', 'computer', 'Advertising', 'Software Engineering', 'Content', 'Pharmaceutical', 'Microsoft Excel', 'Pharmacy', 'analytical', 'Graphic', 'SAP', 'negotiation skills', 'IT', 'Retail', 'Sales Skills', 'Technical Support', 'illustrator', 'Writing', 'accountant', 'Payroll', 'Project', 'CPA', 'Agile', 'HTML', 'Travel', 'engineer', 'Telesales', '3D', 'MS', 'CMA', 'Tourism', 'CSS', 'social', 'Google Analytics', 'Talent acquisition', 'Editing', 'Export', 'CAD', 'General Ledger', 'Communication Skills', 'Git', 'B2B', 'Safety', 'Microsoft', 'Research', 'Auditing', 'Oracle', 'Online Marketing', 'FMCG', 'Interviewing', 'Arabic', 'Manager', 'Python', 'campaigns', 'administrative', 'Video Editing', 'Data Analysis', 'Site', 'Troubleshooting', 'Computer Engineering', 'indesign', 'Testing', 'Programming', 'Account Management', 'Installation', 'HVAC', 'Angular', 'Reporting', 'Fine Arts', 'Assistant', 'MS Excel', 'Time Management', 'Outdoor Sales', 'Arts', 'MySQL', 'Content Creation', 'Insurance', 'English Teaching', 'Hospitality', 'Warehousing', 'Interior Design', 'Industrial', 'QA', 'Web Development', 'PHP', 'Supply', 'Cost', 'Tendering', 'Sales Field', 'Automotive', 'inventory', 'Treasury', 'Banking', 'Projects', 'receptionist', 'Security', 'React', 'Customer Relations', 'Customer Satisfaction', 'Labor', 'Data', 'Healthcare', 'Architectural Engineering']\n"
          ]
        }
      ],
      "source": [
        "df[\"Skills\"] = df[\"Skills\"].apply(ast.literal_eval)\n",
        "all_skills = [skill for skills_list in df[\"Skills\"] for skill in skills_list]\n",
        "skill_frequency = Counter(all_skills)\n",
        "top_200_skills = skill_frequency.most_common(200)\n",
        "top_200_skill_names = [skill for skill, _ in top_200_skills]\n",
        "print(top_200_skill_names)"
      ]
    },
    {
      "cell_type": "code",
      "execution_count": null,
      "metadata": {
        "id": "Txt1Ze_E8fqe"
      },
      "outputs": [],
      "source": [
        "standardization_map = {\n",
        "    \"ms office\": \"microsoft office\",\n",
        "    \"ms excel\": \"microsoft excel\",\n",
        "    \"erp\": \"enterprise resource planning\",\n",
        "    \"crm\": \"customer relationship management\",\n",
        "    \"seo\": \"search engine optimization\",\n",
        "    \"hr\": \"human resources\",\n",
        "    \"b2b\": \"business-to-business\",\n",
        "    \"pmp\": \"project management professional\",\n",
        "    \"qa\": \"quality assurance\",\n",
        "    \"it\": \"information technology\",\n",
        "    \"sql\": \"structured query language\",\n",
        "    \"cpa\": \"certified public accountant\",\n",
        "    \"cma\": \"certified management accountant\",\n",
        "    \"hvac\": \"heating, ventilation, and air conditioning\",\n",
        "    \"fmcg\": \"fast-moving consumer goods\",\n",
        "    \"bim\": \"building information modeling\",\n",
        "    \"cad\": \"computer-aided design\"\n",
        "}\n",
        "\n",
        "words_to_remove = {\"skills\", \"experience\", \"field\", \"technical\", \"office\", \"management\", \"assistant\"}\n",
        "\n",
        "def clean_skill(skill):\n",
        "    skill = skill.lower().strip()\n",
        "    skill = standardization_map.get(skill, skill)\n",
        "    cleaned_words = [word for word in skill.split() if word not in words_to_remove]\n",
        "    return \" \".join(cleaned_words) if cleaned_words else None\n",
        "\n",
        "def process_skills(skills):\n",
        "    if isinstance(skills, str):\n",
        "        try:\n",
        "            skills_list = ast.literal_eval(skills)\n",
        "            if not isinstance(skills_list, list):\n",
        "                return []\n",
        "        except (SyntaxError, ValueError):\n",
        "            return []\n",
        "    elif isinstance(skills, list):\n",
        "        skills_list = skills\n",
        "    else:\n",
        "        return []\n",
        "\n",
        "    return [skill for skill in map(clean_skill, skills_list) if skill]\n",
        "\n",
        "df = df.dropna(subset=[\"Skills\"])\n",
        "df[\"Skills\"] = df[\"Skills\"].apply(process_skills)\n"
      ]
    },
    {
      "cell_type": "code",
      "execution_count": null,
      "metadata": {
        "id": "b7EkddxQ8fqe"
      },
      "outputs": [],
      "source": [
        "df.to_csv(\"Final_cleaned_wuzzuf_file.csv\", index=False)"
      ]
    }
  ],
  "metadata": {
    "kernelspec": {
      "display_name": "base",
      "language": "python",
      "name": "python3"
    },
    "language_info": {
      "codemirror_mode": {
        "name": "ipython",
        "version": 3
      },
      "file_extension": ".py",
      "mimetype": "text/x-python",
      "name": "python",
      "nbconvert_exporter": "python",
      "pygments_lexer": "ipython3",
      "version": "3.12.7"
    },
    "colab": {
      "provenance": [],
      "include_colab_link": true
    }
  },
  "nbformat": 4,
  "nbformat_minor": 0
}