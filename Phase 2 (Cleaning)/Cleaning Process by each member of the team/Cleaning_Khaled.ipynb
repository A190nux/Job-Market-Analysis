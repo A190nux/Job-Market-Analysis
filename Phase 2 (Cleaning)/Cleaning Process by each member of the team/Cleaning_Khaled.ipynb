{
 "cells": [
  {
   "cell_type": "code",
   "execution_count": 1,
   "metadata": {},
   "outputs": [],
   "source": [
    "import pandas as pd\n",
    "from collections import Counter\n",
    "import ast\n",
    "from itertools import chain\n",
    "import matplotlib.pyplot as plt\n",
    "import seaborn as sns"
   ]
  },
  {
   "cell_type": "code",
   "execution_count": 2,
   "metadata": {},
   "outputs": [],
   "source": [
    "data=pd.read_csv(\"wuzzuf.csv\")"
   ]
  },
  {
   "cell_type": "code",
   "execution_count": 34,
   "metadata": {},
   "outputs": [],
   "source": [
    "data=data.drop_duplicates()"
   ]
  },
  {
   "cell_type": "code",
   "execution_count": 35,
   "metadata": {},
   "outputs": [],
   "source": [
    "data[\"Number_of_Applicants\"]=data[\"Number_of_Applicants\"].replace('Be the First to Apply',1)"
   ]
  },
  {
   "cell_type": "code",
   "execution_count": 36,
   "metadata": {},
   "outputs": [],
   "source": [
    "data[\"Number_of_Positions\"] = data[\"Number_of_Positions\"].fillna(\"1\")\n",
    "data[\"Number_of_Positions\"] = data[\"Number_of_Positions\"].astype(str)\n",
    "data[\"Number_of_Positions\"] = (data[\"Number_of_Positions\"].str.replace(\",\", \"\").str.split().str[0].astype(\"Int64\"))"
   ]
  },
  {
   "cell_type": "code",
   "execution_count": null,
   "metadata": {},
   "outputs": [],
   "source": [
    "all_skills = [skill for skills_list in data[\"Skills\"] for skill in skills_list]\n",
    "skill_frequency = Counter(all_skills)\n",
    "top_200_skills = skill_frequency.most_common(200)\n",
    "top_200_skill_names = [skill for skill, _ in top_200_skills]\n",
    "print(top_200_skill_names)"
   ]
  },
  {
   "cell_type": "code",
   "execution_count": 3,
   "metadata": {},
   "outputs": [],
   "source": [
    "standardization_map = {\n",
    "    \"ms office\": \"microsoft office\",\n",
    "    \"ms excel\": \"microsoft excel\",\n",
    "    \"erp\": \"enterprise resource planning\",\n",
    "    \"crm\": \"customer relationship management\",\n",
    "    \"seo\": \"search engine optimization\",\n",
    "    \"hr\": \"human resources\",\n",
    "    \"b2b\": \"business-to-business\",\n",
    "    \"pmp\": \"project management professional\",\n",
    "    \"qa\": \"quality assurance\",\n",
    "    \"it\": \"information technology\",\n",
    "    \"sql\": \"structured query language\",\n",
    "    \"cpa\": \"certified public accountant\",\n",
    "    \"cma\": \"certified management accountant\",\n",
    "    \"hvac\": \"heating, ventilation, and air conditioning\",\n",
    "    \"fmcg\": \"fast-moving consumer goods\",\n",
    "    \"bim\": \"building information modeling\",\n",
    "    \"cad\": \"computer-aided design\"\n",
    "}\n",
    "\n",
    "words_to_remove = {\"skills\", \"experience\", \"field\", \"technical\", \"office\", \"management\", \"assistant\"}\n",
    "def clean_skill(skill):\n",
    "    skill = skill.lower().strip()\n",
    "    skill = standardization_map.get(skill, skill)  \n",
    "    cleaned_words = [word for word in skill.split() if word not in words_to_remove]\n",
    "    return \" \".join(cleaned_words) if cleaned_words else None \n",
    "\n",
    "def process_skills(skills):\n",
    "    if isinstance(skills, str):\n",
    "        try:\n",
    "            skills_list = ast.literal_eval(skills)  \n",
    "            if not isinstance(skills_list, list):\n",
    "                return []  \n",
    "        except (SyntaxError, ValueError):\n",
    "            return []\n",
    "    elif isinstance(skills, list):\n",
    "        skills_list = skills\n",
    "    else:\n",
    "        return []\n",
    "    cleaned_skills = [clean_skill(skill) for skill in skills_list]\n",
    "    return [skill for skill in cleaned_skills if skill] \n",
    "data = data.dropna(subset=[\"Skills\"])\n",
    "data[\"Skills\"] = data[\"Skills\"].apply(process_skills)"
   ]
  }
 ],
 "metadata": {
  "kernelspec": {
   "display_name": "base",
   "language": "python",
   "name": "python3"
  },
  "language_info": {
   "codemirror_mode": {
    "name": "ipython",
    "version": 3
   },
   "file_extension": ".py",
   "mimetype": "text/x-python",
   "name": "python",
   "nbconvert_exporter": "python",
   "pygments_lexer": "ipython3",
   "version": "3.12.7"
  }
 },
 "nbformat": 4,
 "nbformat_minor": 2
}
