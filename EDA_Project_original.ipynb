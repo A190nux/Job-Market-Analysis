{
 "cells": [
  {
   "cell_type": "code",
   "execution_count": 1,
   "metadata": {},
   "outputs": [],
   "source": [
    "import pandas as pd\n",
    "import requests\n",
    "from bs4 import BeautifulSoup\n",
    "import lxml.html as lh\n",
    "from time import sleep"
   ]
  },
  {
   "cell_type": "code",
   "execution_count": 2,
   "metadata": {},
   "outputs": [],
   "source": [
    "# Get the Wuzzuf sitemap URL\n",
    "sitemap_url = \"https://wuzzuf.net/sitemap-job-1.xml\"\n",
    "response = requests.get(sitemap_url)\n",
    "\n",
    "# Parse the XML\n",
    "if response.status_code == 200:\n",
    "    soup = BeautifulSoup(response.content, \"xml\")\n",
    "    urls = [loc.text for loc in soup.find_all(\"loc\")]\n",
    "        \n",
    "else:\n",
    "    print(\"Failed to fetch the sitemap.\")"
   ]
  },
  {
   "cell_type": "code",
   "execution_count": 4,
   "metadata": {},
   "outputs": [
    {
     "data": {
      "text/plain": [
       "8595"
      ]
     },
     "execution_count": 4,
     "metadata": {},
     "output_type": "execute_result"
    }
   ],
   "source": [
    "len(urls)"
   ]
  },
  {
   "cell_type": "code",
   "execution_count": 5,
   "metadata": {},
   "outputs": [],
   "source": [
    "title = []\n",
    "working_hours = []\n",
    "working_place = []\n",
    "company = []\n",
    "location = []\n",
    "post_date = []\n",
    "num_of_applicants = []\n",
    "num_of_positions = []\n",
    "experience = []\n",
    "career_level = []\n",
    "education = []\n",
    "salary = []\n",
    "job_category = []\n",
    "skills = []\n",
    "job_description = []\n",
    "job_requirements = []"
   ]
  },
  {
   "cell_type": "code",
   "execution_count": null,
   "metadata": {},
   "outputs": [
    {
     "name": "stdout",
     "output_type": "stream",
     "text": [
      "Senior Backend Developer\n",
      "Full Time\n",
      "Hybrid\n",
      "RocketDevs\n",
      "Cairo, Egypt\n",
      "Posted 27 days ago\n",
      "12\n",
      "1 open position\n"
     ]
    },
    {
     "ename": "IndexError",
     "evalue": "list index out of range",
     "output_type": "error",
     "traceback": [
      "\u001b[1;31m---------------------------------------------------------------------------\u001b[0m",
      "\u001b[1;31mIndexError\u001b[0m                                Traceback (most recent call last)",
      "Cell \u001b[1;32mIn[6], line 17\u001b[0m\n\u001b[0;32m     15\u001b[0m \u001b[38;5;28mprint\u001b[39m(doc\u001b[38;5;241m.\u001b[39mxpath(\u001b[38;5;124m'\u001b[39m\u001b[38;5;124m//section/div/div/div/strong\u001b[39m\u001b[38;5;124m'\u001b[39m)[\u001b[38;5;241m0\u001b[39m]\u001b[38;5;241m.\u001b[39mtext_content()\u001b[38;5;241m.\u001b[39mstrip())\n\u001b[0;32m     16\u001b[0m \u001b[38;5;28mprint\u001b[39m(doc\u001b[38;5;241m.\u001b[39mxpath(\u001b[38;5;124m'\u001b[39m\u001b[38;5;124m//div/div/span/span\u001b[39m\u001b[38;5;124m'\u001b[39m)[\u001b[38;5;241m1\u001b[39m]\u001b[38;5;241m.\u001b[39mtext_content()\u001b[38;5;241m.\u001b[39mstrip())\n\u001b[1;32m---> 17\u001b[0m \u001b[38;5;28mprint\u001b[39m(\u001b[43mdoc\u001b[49m\u001b[38;5;241;43m.\u001b[39;49m\u001b[43mxpath\u001b[49m\u001b[43m(\u001b[49m\u001b[38;5;124;43m'\u001b[39;49m\u001b[38;5;124;43m//main//section/div/span/span\u001b[39;49m\u001b[38;5;124;43m'\u001b[39;49m\u001b[43m)\u001b[49m\u001b[43m[\u001b[49m\u001b[38;5;241;43m0\u001b[39;49m\u001b[43m]\u001b[49m\u001b[38;5;241m.\u001b[39mtext_content()\u001b[38;5;241m.\u001b[39mstrip())\n\u001b[0;32m     18\u001b[0m \u001b[38;5;66;03m# print(doc.xpath('//div[@class=\"career-level\"]')[0].text_content().strip())\u001b[39;00m\n\u001b[0;32m     19\u001b[0m \u001b[38;5;66;03m# print(doc.xpath('//div[@class=\"education\"]')[0].text_content().strip())\u001b[39;00m\n\u001b[0;32m     20\u001b[0m \u001b[38;5;66;03m# print(doc.xpath('//div[@class=\"salary\"]')[0].text_content().strip())\u001b[39;00m\n\u001b[1;32m   (...)\u001b[0m\n\u001b[0;32m     23\u001b[0m \u001b[38;5;66;03m# print(doc.xpath('//div[@class=\"description\"]')[0].text_content().strip())\u001b[39;00m\n\u001b[0;32m     24\u001b[0m \u001b[38;5;66;03m# print(doc.xpath('//div[@class=\"requirements\"]')[0].text_content().strip())\u001b[39;00m\n",
      "\u001b[1;31mIndexError\u001b[0m: list index out of range"
     ]
    }
   ],
   "source": [
    "headers = {\n",
    "    'User-Agent': 'Mozilla/5.0 (Windows NT 10.0; Win64; x64) AppleWebKit/537.36 (KHTML, like Gecko) Chrome/91.0.4472.124 Safari/537.36'\n",
    "}\n",
    "response = requests.get(urls[1], headers=headers)\n",
    "soup = BeautifulSoup(response.content, 'html.parser')\n",
    "doc = lh.fromstring(response.content)\n",
    "\n",
    "# Extract each data point using xpath\n",
    "print(doc.xpath('//section/div/h1')[0].text_content().strip())\n",
    "print(doc.xpath('//section/div/div/div/a/span')[0].text_content().strip())\n",
    "print(doc.xpath('//section/div/div/a/span')[0].text_content().strip())\n",
    "print(doc.xpath('//strong/div/a')[0].text_content().strip())\n",
    "print(doc.xpath('//strong')[0].text_content().strip().split('-')[-1].strip())\n",
    "print(doc.xpath('//section/div/span')[0].text_content().strip())\n",
    "print(doc.xpath('//section/div/div/div/strong')[0].text_content().strip())\n",
    "print(doc.xpath('//div/div/span/span')[1].text_content().strip())\n",
    "print(doc.xpath('//main//section/div/span/span')[0].text_content().strip())\n",
    "# print(doc.xpath('//div[@class=\"career-level\"]')[0].text_content().strip())\n",
    "# print(doc.xpath('//div[@class=\"education\"]')[0].text_content().strip())\n",
    "# print(doc.xpath('//div[@class=\"salary\"]')[0].text_content().strip())\n",
    "# print(doc.xpath('//div[@class=\"category\"]')[0].text_content().strip())\n",
    "# print(doc.xpath('//div[@class=\"skills\"]')[0].text_content().strip())\n",
    "# print(doc.xpath('//div[@class=\"description\"]')[0].text_content().strip())\n",
    "# print(doc.xpath('//div[@class=\"requirements\"]')[0].text_content().strip())\n"
   ]
  },
  {
   "cell_type": "code",
   "execution_count": null,
   "metadata": {},
   "outputs": [],
   "source": []
  }
 ],
 "metadata": {
  "kernelspec": {
   "display_name": "scrap",
   "language": "python",
   "name": "python3"
  },
  "language_info": {
   "codemirror_mode": {
    "name": "ipython",
    "version": 3
   },
   "file_extension": ".py",
   "mimetype": "text/x-python",
   "name": "python",
   "nbconvert_exporter": "python",
   "pygments_lexer": "ipython3",
   "version": "3.13.1"
  }
 },
 "nbformat": 4,
 "nbformat_minor": 2
}
