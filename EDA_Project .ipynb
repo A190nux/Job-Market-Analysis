{
 "cells": [
  {
   "cell_type": "code",
   "execution_count": 1,
   "metadata": {},
   "outputs": [],
   "source": [
    "import pandas as pd\n",
    "import requests\n",
    "from bs4 import BeautifulSoup\n",
    "import lxml.html as lh\n",
    "from time import sleep\n",
    "from selenium import webdriver\n",
    "from selenium.common.exceptions import NoSuchElementException\n",
    "import json\n",
    "from selenium.webdriver.support.ui import WebDriverWait\n",
    "from selenium.webdriver.support import expected_conditions as EC\n",
    "from selenium.webdriver.common.by import By\n",
    "from selenium.webdriver.firefox.options import Options\n",
    "from selenium.webdriver.firefox.firefox_profile import FirefoxProfile\n",
    "from selenium.common.exceptions import TimeoutException\n",
    "import os\n",
    "import numpy as np"
   ]
  },
  {
   "cell_type": "code",
   "execution_count": 2,
   "metadata": {},
   "outputs": [],
   "source": [
    "# Get the Wuzzuf sitemap URL\n",
    "sitemap_url = \"https://wuzzuf.net/sitemap-job-1.xml\"\n",
    "response = requests.get(sitemap_url)\n",
    "\n",
    "# Parse the XML\n",
    "if response.status_code == 200:\n",
    "    soup = BeautifulSoup(response.content, \"xml\")\n",
    "    urls = [loc.text for loc in soup.find_all(\"loc\")]\n",
    "        \n",
    "else:\n",
    "    print(\"Failed to fetch the sitemap.\")"
   ]
  },
  {
   "cell_type": "code",
   "execution_count": 3,
   "metadata": {},
   "outputs": [
    {
     "data": {
      "text/plain": [
       "8595"
      ]
     },
     "execution_count": 3,
     "metadata": {},
     "output_type": "execute_result"
    }
   ],
   "source": [
    "len(urls)"
   ]
  },
  {
   "cell_type": "code",
   "execution_count": 4,
   "metadata": {},
   "outputs": [],
   "source": [
    "title = []\n",
    "working_hours = []\n",
    "working_place = []\n",
    "company = []\n",
    "location = []\n",
    "post_date = []\n",
    "num_of_applicants = []\n",
    "num_of_positions = []\n",
    "experience = []\n",
    "career_level = []\n",
    "education = []\n",
    "salary = []\n",
    "job_category = []\n",
    "skills = []\n",
    "job_description = []\n",
    "job_requirements = []"
   ]
  },
  {
   "cell_type": "code",
   "execution_count": 5,
   "metadata": {},
   "outputs": [],
   "source": [
    "driver = webdriver.Firefox()"
   ]
  },
  {
   "cell_type": "code",
   "execution_count": 6,
   "metadata": {},
   "outputs": [],
   "source": [
    "def get_element_text(by, value, index=0):\n",
    "    try:\n",
    "        elements = driver.find_elements(by, value)\n",
    "        return elements[index].text.strip() if elements else \"N/A\"\n",
    "    except:\n",
    "        return \"N/A\""
   ]
  },
  {
   "cell_type": "code",
   "execution_count": 7,
   "metadata": {},
   "outputs": [],
   "source": [
    "data = []\n",
    "for url in urls[4]:\n",
    "    driver.get(url)\n",
    "    sleep(2) \n",
    "    \n",
    "    job_data = {\n",
    "        \"Title\": get_element_text(By.XPATH, \"//section/div/h1\"),\n",
    "        \"Company\": get_element_text(By.XPATH, \"//section/div/div/div/a/span\"),\n",
    "        \"Working Place\": get_element_text(By.XPATH, \"//section/div/div/a/span\"),\n",
    "        \"Location\": get_element_text(By.XPATH, \"//strong/div/a\"),\n",
    "        \"Post Date\": get_element_text(By.XPATH, \"//section/div/span\"),\n",
    "        \"Number of Positions\": get_element_text(By.XPATH, \"//section/div/div/div/strong\"),\n",
    "        \"Applicants\": get_element_text(By.XPATH, \"//div/div/span/span\", index=1),\n",
    "        \"Career Level\": get_element_text(By.XPATH, \"//main//section/div/span/span\"),\n",
    "        \"Education\": get_element_text(By.XPATH, \"//main//section/div/span/span\", index=1),\n",
    "        \"Salary\": get_element_text(By.XPATH, \"//main//section/div/span/span\", index=2),\n",
    "        \"Job Category\": get_element_text(By.XPATH, \"//main//section/div/span/span\", index=3),\n",
    "        \"Skills\": get_element_text(By.XPATH, \"//div/ul/li/a/span\"),\n",
    "        \"Job Description\": \" \".join([i.text for i in driver.find_elements(By.XPATH, \"//div/a/span/span/span\")]),\n",
    "    }\n",
    "    \n",
    "    data.append(job_data)"
   ]
  },
  {
   "cell_type": "code",
   "execution_count": 8,
   "metadata": {},
   "outputs": [
    {
     "data": {
      "text/html": [
       "<div>\n",
       "<style scoped>\n",
       "    .dataframe tbody tr th:only-of-type {\n",
       "        vertical-align: middle;\n",
       "    }\n",
       "\n",
       "    .dataframe tbody tr th {\n",
       "        vertical-align: top;\n",
       "    }\n",
       "\n",
       "    .dataframe thead th {\n",
       "        text-align: right;\n",
       "    }\n",
       "</style>\n",
       "<table border=\"1\" class=\"dataframe\">\n",
       "  <thead>\n",
       "    <tr style=\"text-align: right;\">\n",
       "      <th></th>\n",
       "      <th>Title</th>\n",
       "      <th>Company</th>\n",
       "      <th>Working Place</th>\n",
       "      <th>Location</th>\n",
       "      <th>Post Date</th>\n",
       "      <th>Number of Positions</th>\n",
       "      <th>Applicants</th>\n",
       "      <th>Career Level</th>\n",
       "      <th>Education</th>\n",
       "      <th>Salary</th>\n",
       "      <th>Job Category</th>\n",
       "      <th>Skills</th>\n",
       "      <th>Job Description</th>\n",
       "    </tr>\n",
       "  </thead>\n",
       "  <tbody>\n",
       "    <tr>\n",
       "      <th>0</th>\n",
       "      <td>School Head of Admissions</td>\n",
       "      <td>Full Time</td>\n",
       "      <td>On-site</td>\n",
       "      <td></td>\n",
       "      <td>Posted 24 days ago</td>\n",
       "      <td>44</td>\n",
       "      <td>1 open position</td>\n",
       "      <td>3 To 10 Years</td>\n",
       "      <td>Experienced (Non-Manager)</td>\n",
       "      <td>Not Specified</td>\n",
       "      <td>Confidential</td>\n",
       "      <td>Marketing/PR/Advertising</td>\n",
       "      <td>Marketing School Education</td>\n",
       "    </tr>\n",
       "    <tr>\n",
       "      <th>1</th>\n",
       "      <td>Senior Backend Developer</td>\n",
       "      <td>Full Time</td>\n",
       "      <td>Hybrid</td>\n",
       "      <td></td>\n",
       "      <td>Posted 27 days ago</td>\n",
       "      <td>12</td>\n",
       "      <td>1 open position</td>\n",
       "      <td>More Than 5 Years</td>\n",
       "      <td>Experienced (Non-Manager)</td>\n",
       "      <td>Bachelor'S Degree</td>\n",
       "      <td>Confidential</td>\n",
       "      <td>IT/Software Development</td>\n",
       "      <td>Software Development Ruby Ruby on Rails Infras...</td>\n",
       "    </tr>\n",
       "    <tr>\n",
       "      <th>2</th>\n",
       "      <td>Civil Engineer</td>\n",
       "      <td>Full Time</td>\n",
       "      <td>On-site</td>\n",
       "      <td></td>\n",
       "      <td>Posted 20 days ago</td>\n",
       "      <td>72</td>\n",
       "      <td>2 open positions</td>\n",
       "      <td>3 To 5 Years</td>\n",
       "      <td>Experienced (Non-Manager)</td>\n",
       "      <td>Bachelor'S Degree</td>\n",
       "      <td>8000 To 12000 EGP Per Month</td>\n",
       "      <td>Engineering - Construction/Civil/Architecture</td>\n",
       "      <td>AutoCAD Civil Engineering Design Communication...</td>\n",
       "    </tr>\n",
       "    <tr>\n",
       "      <th>3</th>\n",
       "      <td>Senior Tendering Engineer</td>\n",
       "      <td>Full Time</td>\n",
       "      <td>On-site</td>\n",
       "      <td></td>\n",
       "      <td>Posted 27 days ago</td>\n",
       "      <td>48</td>\n",
       "      <td>4 open positions</td>\n",
       "      <td>5 To 8 Years</td>\n",
       "      <td>Experienced (Non-Manager)</td>\n",
       "      <td>Bachelor'S Degree</td>\n",
       "      <td>Confidential</td>\n",
       "      <td>Engineering - Construction/Civil/Architecture</td>\n",
       "      <td>Civil tender Engineering Tendering</td>\n",
       "    </tr>\n",
       "  </tbody>\n",
       "</table>\n",
       "</div>"
      ],
      "text/plain": [
       "                       Title    Company Working Place Location  \\\n",
       "0  School Head of Admissions  Full Time       On-site            \n",
       "1   Senior Backend Developer  Full Time        Hybrid            \n",
       "2             Civil Engineer  Full Time       On-site            \n",
       "3  Senior Tendering Engineer  Full Time       On-site            \n",
       "\n",
       "            Post Date Number of Positions        Applicants  \\\n",
       "0  Posted 24 days ago                  44   1 open position   \n",
       "1  Posted 27 days ago                  12   1 open position   \n",
       "2  Posted 20 days ago                  72  2 open positions   \n",
       "3  Posted 27 days ago                  48  4 open positions   \n",
       "\n",
       "        Career Level                  Education             Salary  \\\n",
       "0      3 To 10 Years  Experienced (Non-Manager)      Not Specified   \n",
       "1  More Than 5 Years  Experienced (Non-Manager)  Bachelor'S Degree   \n",
       "2       3 To 5 Years  Experienced (Non-Manager)  Bachelor'S Degree   \n",
       "3       5 To 8 Years  Experienced (Non-Manager)  Bachelor'S Degree   \n",
       "\n",
       "                  Job Category                                         Skills  \\\n",
       "0                 Confidential                       Marketing/PR/Advertising   \n",
       "1                 Confidential                        IT/Software Development   \n",
       "2  8000 To 12000 EGP Per Month  Engineering - Construction/Civil/Architecture   \n",
       "3                 Confidential  Engineering - Construction/Civil/Architecture   \n",
       "\n",
       "                                     Job Description  \n",
       "0                         Marketing School Education  \n",
       "1  Software Development Ruby Ruby on Rails Infras...  \n",
       "2  AutoCAD Civil Engineering Design Communication...  \n",
       "3                 Civil tender Engineering Tendering  "
      ]
     },
     "execution_count": 8,
     "metadata": {},
     "output_type": "execute_result"
    }
   ],
   "source": [
    "job_df = pd.DataFrame(data)\n",
    "job_df"
   ]
  },
  {
   "cell_type": "code",
   "execution_count": null,
   "metadata": {},
   "outputs": [],
   "source": [
    "job_df.to_csv(\"wuzzuf_jobs.csv\", index=False)"
   ]
  },
  {
   "cell_type": "code",
   "execution_count": null,
   "metadata": {},
   "outputs": [],
   "source": [
    "driver.quit()"
   ]
  }
 ],
 "metadata": {
  "kernelspec": {
   "display_name": "base",
   "language": "python",
   "name": "python3"
  },
  "language_info": {
   "codemirror_mode": {
    "name": "ipython",
    "version": 3
   },
   "file_extension": ".py",
   "mimetype": "text/x-python",
   "name": "python",
   "nbconvert_exporter": "python",
   "pygments_lexer": "ipython3",
   "version": "3.12.7"
  }
 },
 "nbformat": 4,
 "nbformat_minor": 2
}
