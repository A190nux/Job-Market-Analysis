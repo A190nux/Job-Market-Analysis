{
 "cells": [
  {
   "cell_type": "code",
   "execution_count": 1,
   "metadata": {},
   "outputs": [],
   "source": [
    "import pandas as pd\n",
    "import requests\n",
    "from bs4 import BeautifulSoup\n",
    "from time import sleep\n",
    "from selenium import webdriver\n",
    "from selenium.webdriver.support.ui import WebDriverWait\n",
    "from selenium.webdriver.support import expected_conditions as EC\n",
    "from selenium.webdriver.common.by import By\n",
    "from selenium.webdriver.firefox.options import Options\n",
    "from selenium.common.exceptions import TimeoutException, WebDriverException\n",
    "import os\n"
   ]
  },
  {
   "cell_type": "code",
   "execution_count": 2,
   "metadata": {},
   "outputs": [],
   "source": [
    "# Get the Wuzzuf sitemap URL\n",
    "sitemap_url = \"https://wuzzuf.net/sitemap-job-1.xml\"\n",
    "response = requests.get(sitemap_url)\n",
    "\n",
    "# Parse the XML\n",
    "if response.status_code == 200:\n",
    "    soup = BeautifulSoup(response.content, \"xml\")\n",
    "    urls = [loc.text for loc in soup.find_all(\"loc\")]\n",
    "else:\n",
    "    print(\"Failed to fetch the sitemap.\")\n",
    "    exit()"
   ]
  },
  {
   "cell_type": "code",
   "execution_count": 3,
   "metadata": {},
   "outputs": [],
   "source": [
    "options = Options()\n",
    "options.headless = True \n",
    "driver = webdriver.Firefox(options=options)"
   ]
  },
  {
   "cell_type": "code",
   "execution_count": 4,
   "metadata": {},
   "outputs": [],
   "source": [
    "def get_element_text(by, value, index=0):\n",
    "    try:\n",
    "        elements = driver.find_elements(by, value)\n",
    "        return elements[index].text.strip() if elements else \"N/A\"\n",
    "    except:\n",
    "        return \"N/A\""
   ]
  },
  {
   "cell_type": "code",
   "execution_count": 5,
   "metadata": {},
   "outputs": [
    {
     "name": "stdout",
     "output_type": "stream",
     "text": [
      "Restarting WebDriver to free up memory.\n",
      "Saved 4499 jobs to CSV.\n",
      "Saved 4999 jobs to CSV.\n",
      "Saved 5499 jobs to CSV.\n",
      "Saved 5999 jobs to CSV.\n",
      "Restarting WebDriver to free up memory.\n",
      "Saved 6499 jobs to CSV.\n",
      "Saved 6999 jobs to CSV.\n",
      "Saved 7499 jobs to CSV.\n",
      "Saved 7999 jobs to CSV.\n",
      "Restarting WebDriver to free up memory.\n",
      "Saved 8499 jobs to CSV.\n",
      "Final batch saved.\n"
     ]
    }
   ],
   "source": [
    "data = []\n",
    "failed_urls = []\n",
    "batch_size = 500  \n",
    "\n",
    "for i, url in enumerate(urls[4000:], start=4000):\n",
    "    try:\n",
    "        driver.get(url)\n",
    "        sleep(7)  \n",
    "\n",
    "        job_data = {\n",
    "            \"Title\": get_element_text(By.XPATH, \"//section/div/h1\"),\n",
    "            \"Company\": get_element_text(By.XPATH, \"//section/div/div/div/a/span\"),\n",
    "            \"Working Place\": get_element_text(By.XPATH, \"//section/div/div/a/span\"),\n",
    "            \"Location\": get_element_text(By.XPATH, \"//strong/div/a\"),\n",
    "            \"Post Date\": get_element_text(By.XPATH, \"//section/div/span\"),\n",
    "            \"Number of Positions\": get_element_text(By.XPATH, \"//section/div/div/div/strong\"),\n",
    "            \"Applicants\": get_element_text(By.XPATH, \"//div/div/span/span\", index=1),\n",
    "            \"Career Level\": get_element_text(By.XPATH, \"//main//section/div/span/span\"),\n",
    "            \"Education\": get_element_text(By.XPATH, \"//main//section/div/span/span\", index=1),\n",
    "            \"Salary\": get_element_text(By.XPATH, \"//main//section/div/span/span\", index=2),\n",
    "            \"Job Category\": get_element_text(By.XPATH, \"//main//section/div/span/span\", index=3),\n",
    "            \"Skills\": get_element_text(By.XPATH, \"//div/ul/li/a/span\"),\n",
    "            \"Job Description\": \" \".join([i.text for i in driver.find_elements(By.XPATH, \"//div/a/span/span/span\")]),\n",
    "        }\n",
    "\n",
    "        data.append(job_data)\n",
    "\n",
    "        if len(data) >= batch_size:\n",
    "            df = pd.DataFrame(data)\n",
    "            df.to_csv(\"wuzzuf_jobs.csv\", mode='a', index=False, header=not os.path.exists(\"wuzzuf_jobs.csv\"))\n",
    "            data.clear()\n",
    "            print(f\"Saved {i} jobs to CSV.\")\n",
    "\n",
    "        # Restart WebDriver every 2000 jobs to free memory\n",
    "        if i % 2000 == 0:\n",
    "            driver.quit()\n",
    "            driver = webdriver.Firefox(options=options)\n",
    "            print(\"Restarting WebDriver to free up memory.\")\n",
    "\n",
    "    except (TimeoutException, WebDriverException) as e:\n",
    "        print(f\"Error on {url}: {e}\")\n",
    "        failed_urls.append(url)\n",
    "        continue  # Skip to next job if there's an error\n",
    "\n",
    "# Final save for any remaining data\n",
    "if data:\n",
    "    df = pd.DataFrame(data)\n",
    "    df.to_csv(\"wuzzuf_jobs.csv\", mode='a', index=False, header=not os.path.exists(\"wuzzuf_jobs.csv\"))\n",
    "    print(\"Final batch saved.\")\n",
    "\n",
    "driver.quit()\n"
   ]
  }
 ],
 "metadata": {
  "kernelspec": {
   "display_name": "base",
   "language": "python",
   "name": "python3"
  },
  "language_info": {
   "codemirror_mode": {
    "name": "ipython",
    "version": 3
   },
   "file_extension": ".py",
   "mimetype": "text/x-python",
   "name": "python",
   "nbconvert_exporter": "python",
   "pygments_lexer": "ipython3",
   "version": "3.12.7"
  }
 },
 "nbformat": 4,
 "nbformat_minor": 2
}
